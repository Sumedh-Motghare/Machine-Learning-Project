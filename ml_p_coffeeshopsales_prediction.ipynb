{
 "cells": [
  {
   "cell_type": "markdown",
   "metadata": {},
   "source": [
    " # ML Project Coffee Shop Sales Prediction.."
   ]
  },
  {
   "cell_type": "code",
   "execution_count": 8,
   "metadata": {},
   "outputs": [
    {
     "name": "stdout",
     "output_type": "stream",
     "text": [
      "Requirement already satisfied: seaborn in c:\\users\\hp\\appdata\\local\\programs\\python\\python312\\lib\\site-packages (0.13.2)Note: you may need to restart the kernel to use updated packages.\n",
      "\n",
      "Requirement already satisfied: numpy!=1.24.0,>=1.20 in c:\\users\\hp\\appdata\\local\\programs\\python\\python312\\lib\\site-packages (from seaborn) (1.26.4)\n",
      "Requirement already satisfied: pandas>=1.2 in c:\\users\\hp\\appdata\\local\\programs\\python\\python312\\lib\\site-packages (from seaborn) (2.2.2)\n",
      "Requirement already satisfied: matplotlib!=3.6.1,>=3.4 in c:\\users\\hp\\appdata\\local\\programs\\python\\python312\\lib\\site-packages (from seaborn) (3.9.0)\n",
      "Requirement already satisfied: contourpy>=1.0.1 in c:\\users\\hp\\appdata\\local\\programs\\python\\python312\\lib\\site-packages (from matplotlib!=3.6.1,>=3.4->seaborn) (1.2.1)\n",
      "Requirement already satisfied: cycler>=0.10 in c:\\users\\hp\\appdata\\local\\programs\\python\\python312\\lib\\site-packages (from matplotlib!=3.6.1,>=3.4->seaborn) (0.12.1)\n",
      "Requirement already satisfied: fonttools>=4.22.0 in c:\\users\\hp\\appdata\\local\\programs\\python\\python312\\lib\\site-packages (from matplotlib!=3.6.1,>=3.4->seaborn) (4.51.0)\n",
      "Requirement already satisfied: kiwisolver>=1.3.1 in c:\\users\\hp\\appdata\\local\\programs\\python\\python312\\lib\\site-packages (from matplotlib!=3.6.1,>=3.4->seaborn) (1.4.5)\n",
      "Requirement already satisfied: packaging>=20.0 in c:\\users\\hp\\appdata\\local\\programs\\python\\python312\\lib\\site-packages (from matplotlib!=3.6.1,>=3.4->seaborn) (24.0)\n",
      "Requirement already satisfied: pillow>=8 in c:\\users\\hp\\appdata\\local\\programs\\python\\python312\\lib\\site-packages (from matplotlib!=3.6.1,>=3.4->seaborn) (10.3.0)\n",
      "Requirement already satisfied: pyparsing>=2.3.1 in c:\\users\\hp\\appdata\\local\\programs\\python\\python312\\lib\\site-packages (from matplotlib!=3.6.1,>=3.4->seaborn) (3.1.2)\n",
      "Requirement already satisfied: python-dateutil>=2.7 in c:\\users\\hp\\appdata\\local\\programs\\python\\python312\\lib\\site-packages (from matplotlib!=3.6.1,>=3.4->seaborn) (2.9.0.post0)\n",
      "Requirement already satisfied: pytz>=2020.1 in c:\\users\\hp\\appdata\\local\\programs\\python\\python312\\lib\\site-packages (from pandas>=1.2->seaborn) (2024.1)\n",
      "Requirement already satisfied: tzdata>=2022.7 in c:\\users\\hp\\appdata\\local\\programs\\python\\python312\\lib\\site-packages (from pandas>=1.2->seaborn) (2024.1)\n",
      "Requirement already satisfied: six>=1.5 in c:\\users\\hp\\appdata\\local\\programs\\python\\python312\\lib\\site-packages (from python-dateutil>=2.7->matplotlib!=3.6.1,>=3.4->seaborn) (1.16.0)\n"
     ]
    }
   ],
   "source": [
    "pip install seaborn"
   ]
  },
  {
   "cell_type": "code",
   "execution_count": 9,
   "metadata": {},
   "outputs": [
    {
     "name": "stdout",
     "output_type": "stream",
     "text": [
      "Requirement already satisfied: scipy in c:\\users\\hp\\appdata\\local\\programs\\python\\python312\\lib\\site-packages (1.13.1)\n",
      "Requirement already satisfied: numpy<2.3,>=1.22.4 in c:\\users\\hp\\appdata\\local\\programs\\python\\python312\\lib\\site-packages (from scipy) (1.26.4)\n",
      "Note: you may need to restart the kernel to use updated packages.\n"
     ]
    }
   ],
   "source": [
    "pip install scipy"
   ]
  },
  {
   "cell_type": "code",
   "execution_count": 10,
   "metadata": {},
   "outputs": [
    {
     "name": "stdout",
     "output_type": "stream",
     "text": [
      "Requirement already satisfied: Scikit-learn in c:\\users\\hp\\appdata\\local\\programs\\python\\python312\\lib\\site-packages (1.5.0)\n",
      "Requirement already satisfied: numpy>=1.19.5 in c:\\users\\hp\\appdata\\local\\programs\\python\\python312\\lib\\site-packages (from Scikit-learn) (1.26.4)\n",
      "Requirement already satisfied: scipy>=1.6.0 in c:\\users\\hp\\appdata\\local\\programs\\python\\python312\\lib\\site-packages (from Scikit-learn) (1.13.1)\n",
      "Requirement already satisfied: joblib>=1.2.0 in c:\\users\\hp\\appdata\\local\\programs\\python\\python312\\lib\\site-packages (from Scikit-learn) (1.4.2)\n",
      "Requirement already satisfied: threadpoolctl>=3.1.0 in c:\\users\\hp\\appdata\\local\\programs\\python\\python312\\lib\\site-packages (from Scikit-learn) (3.5.0)\n",
      "Note: you may need to restart the kernel to use updated packages.\n"
     ]
    }
   ],
   "source": [
    "pip install Scikit-learn"
   ]
  },
  {
   "cell_type": "code",
   "execution_count": 11,
   "metadata": {},
   "outputs": [],
   "source": [
    "import pandas as pd\n",
    "import numpy as np\n",
    "import seaborn as sns\n",
    "import matplotlib\n",
    "import matplotlib.pyplot as plt\n",
    "import warnings\n",
    "warnings.filterwarnings(\"ignore\")"
   ]
  },
  {
   "cell_type": "code",
   "execution_count": 12,
   "metadata": {},
   "outputs": [],
   "source": [
    "df = pd.read_csv(\"coffee shop ml.csv\")"
   ]
  },
  {
   "cell_type": "code",
   "execution_count": 13,
   "metadata": {},
   "outputs": [
    {
     "data": {
      "text/html": [
       "<div>\n",
       "<style scoped>\n",
       "    .dataframe tbody tr th:only-of-type {\n",
       "        vertical-align: middle;\n",
       "    }\n",
       "\n",
       "    .dataframe tbody tr th {\n",
       "        vertical-align: top;\n",
       "    }\n",
       "\n",
       "    .dataframe thead th {\n",
       "        text-align: right;\n",
       "    }\n",
       "</style>\n",
       "<table border=\"1\" class=\"dataframe\">\n",
       "  <thead>\n",
       "    <tr style=\"text-align: right;\">\n",
       "      <th></th>\n",
       "      <th>transaction_id</th>\n",
       "      <th>transaction_date</th>\n",
       "      <th>transaction_time</th>\n",
       "      <th>store_id</th>\n",
       "      <th>store_location</th>\n",
       "      <th>product_id</th>\n",
       "      <th>transaction_qty</th>\n",
       "      <th>unit_price</th>\n",
       "      <th>product_category</th>\n",
       "      <th>product_type</th>\n",
       "      <th>product_detail</th>\n",
       "      <th>size</th>\n",
       "      <th>Total bill</th>\n",
       "      <th>Month Name</th>\n",
       "      <th>Day Name</th>\n",
       "      <th>Hour</th>\n",
       "      <th>Day of Week</th>\n",
       "      <th>Month</th>\n",
       "    </tr>\n",
       "  </thead>\n",
       "  <tbody>\n",
       "    <tr>\n",
       "      <th>0</th>\n",
       "      <td>114301</td>\n",
       "      <td>01-06-2023</td>\n",
       "      <td>11:33:29</td>\n",
       "      <td>3</td>\n",
       "      <td>Astoria</td>\n",
       "      <td>45</td>\n",
       "      <td>1</td>\n",
       "      <td>3.00</td>\n",
       "      <td>Tea</td>\n",
       "      <td>Brewed herbal tea</td>\n",
       "      <td>Peppermint</td>\n",
       "      <td>Large</td>\n",
       "      <td>3.0</td>\n",
       "      <td>June</td>\n",
       "      <td>Thursday</td>\n",
       "      <td>11</td>\n",
       "      <td>4</td>\n",
       "      <td>6</td>\n",
       "    </tr>\n",
       "    <tr>\n",
       "      <th>1</th>\n",
       "      <td>115405</td>\n",
       "      <td>02-06-2023</td>\n",
       "      <td>11:18:24</td>\n",
       "      <td>3</td>\n",
       "      <td>Astoria</td>\n",
       "      <td>45</td>\n",
       "      <td>1</td>\n",
       "      <td>3.00</td>\n",
       "      <td>Tea</td>\n",
       "      <td>Brewed herbal tea</td>\n",
       "      <td>Peppermint</td>\n",
       "      <td>Large</td>\n",
       "      <td>3.0</td>\n",
       "      <td>June</td>\n",
       "      <td>Friday</td>\n",
       "      <td>11</td>\n",
       "      <td>5</td>\n",
       "      <td>6</td>\n",
       "    </tr>\n",
       "    <tr>\n",
       "      <th>2</th>\n",
       "      <td>115478</td>\n",
       "      <td>02-06-2023</td>\n",
       "      <td>12:02:45</td>\n",
       "      <td>3</td>\n",
       "      <td>Astoria</td>\n",
       "      <td>45</td>\n",
       "      <td>1</td>\n",
       "      <td>3.00</td>\n",
       "      <td>Tea</td>\n",
       "      <td>Brewed herbal tea</td>\n",
       "      <td>Peppermint</td>\n",
       "      <td>Large</td>\n",
       "      <td>3.0</td>\n",
       "      <td>June</td>\n",
       "      <td>Friday</td>\n",
       "      <td>12</td>\n",
       "      <td>5</td>\n",
       "      <td>6</td>\n",
       "    </tr>\n",
       "    <tr>\n",
       "      <th>3</th>\n",
       "      <td>116288</td>\n",
       "      <td>02-06-2023</td>\n",
       "      <td>19:39:47</td>\n",
       "      <td>3</td>\n",
       "      <td>Astoria</td>\n",
       "      <td>45</td>\n",
       "      <td>1</td>\n",
       "      <td>3.00</td>\n",
       "      <td>Tea</td>\n",
       "      <td>Brewed herbal tea</td>\n",
       "      <td>Peppermint</td>\n",
       "      <td>Large</td>\n",
       "      <td>3.0</td>\n",
       "      <td>June</td>\n",
       "      <td>Friday</td>\n",
       "      <td>19</td>\n",
       "      <td>5</td>\n",
       "      <td>6</td>\n",
       "    </tr>\n",
       "    <tr>\n",
       "      <th>4</th>\n",
       "      <td>116714</td>\n",
       "      <td>03-06-2023</td>\n",
       "      <td>12:24:57</td>\n",
       "      <td>3</td>\n",
       "      <td>Astoria</td>\n",
       "      <td>45</td>\n",
       "      <td>1</td>\n",
       "      <td>3.00</td>\n",
       "      <td>Tea</td>\n",
       "      <td>Brewed herbal tea</td>\n",
       "      <td>Peppermint</td>\n",
       "      <td>Large</td>\n",
       "      <td>3.0</td>\n",
       "      <td>June</td>\n",
       "      <td>Saturday</td>\n",
       "      <td>12</td>\n",
       "      <td>6</td>\n",
       "      <td>6</td>\n",
       "    </tr>\n",
       "    <tr>\n",
       "      <th>...</th>\n",
       "      <td>...</td>\n",
       "      <td>...</td>\n",
       "      <td>...</td>\n",
       "      <td>...</td>\n",
       "      <td>...</td>\n",
       "      <td>...</td>\n",
       "      <td>...</td>\n",
       "      <td>...</td>\n",
       "      <td>...</td>\n",
       "      <td>...</td>\n",
       "      <td>...</td>\n",
       "      <td>...</td>\n",
       "      <td>...</td>\n",
       "      <td>...</td>\n",
       "      <td>...</td>\n",
       "      <td>...</td>\n",
       "      <td>...</td>\n",
       "      <td>...</td>\n",
       "    </tr>\n",
       "    <tr>\n",
       "      <th>149111</th>\n",
       "      <td>129465</td>\n",
       "      <td>14-06-2023</td>\n",
       "      <td>08:34:10</td>\n",
       "      <td>5</td>\n",
       "      <td>Lower Manhattan</td>\n",
       "      <td>41</td>\n",
       "      <td>4</td>\n",
       "      <td>4.25</td>\n",
       "      <td>Coffee</td>\n",
       "      <td>Barista Espresso</td>\n",
       "      <td>Cappuccino</td>\n",
       "      <td>Large</td>\n",
       "      <td>17.0</td>\n",
       "      <td>June</td>\n",
       "      <td>Wednesday</td>\n",
       "      <td>8</td>\n",
       "      <td>3</td>\n",
       "      <td>6</td>\n",
       "    </tr>\n",
       "    <tr>\n",
       "      <th>149112</th>\n",
       "      <td>133523</td>\n",
       "      <td>17-06-2023</td>\n",
       "      <td>09:55:47</td>\n",
       "      <td>8</td>\n",
       "      <td>Hell's Kitchen</td>\n",
       "      <td>8</td>\n",
       "      <td>8</td>\n",
       "      <td>45.00</td>\n",
       "      <td>Coffee beans</td>\n",
       "      <td>Premium Beans</td>\n",
       "      <td>Civet Cat</td>\n",
       "      <td>Not Defind</td>\n",
       "      <td>360.0</td>\n",
       "      <td>June</td>\n",
       "      <td>Saturday</td>\n",
       "      <td>9</td>\n",
       "      <td>6</td>\n",
       "      <td>6</td>\n",
       "    </tr>\n",
       "    <tr>\n",
       "      <th>149113</th>\n",
       "      <td>133674</td>\n",
       "      <td>17-06-2023</td>\n",
       "      <td>10:41:11</td>\n",
       "      <td>8</td>\n",
       "      <td>Hell's Kitchen</td>\n",
       "      <td>8</td>\n",
       "      <td>8</td>\n",
       "      <td>45.00</td>\n",
       "      <td>Coffee beans</td>\n",
       "      <td>Premium Beans</td>\n",
       "      <td>Civet Cat</td>\n",
       "      <td>Not Defind</td>\n",
       "      <td>360.0</td>\n",
       "      <td>June</td>\n",
       "      <td>Saturday</td>\n",
       "      <td>10</td>\n",
       "      <td>6</td>\n",
       "      <td>6</td>\n",
       "    </tr>\n",
       "    <tr>\n",
       "      <th>149114</th>\n",
       "      <td>133744</td>\n",
       "      <td>17-06-2023</td>\n",
       "      <td>11:18:31</td>\n",
       "      <td>8</td>\n",
       "      <td>Hell's Kitchen</td>\n",
       "      <td>8</td>\n",
       "      <td>8</td>\n",
       "      <td>45.00</td>\n",
       "      <td>Coffee beans</td>\n",
       "      <td>Premium Beans</td>\n",
       "      <td>Civet Cat</td>\n",
       "      <td>Not Defind</td>\n",
       "      <td>360.0</td>\n",
       "      <td>June</td>\n",
       "      <td>Saturday</td>\n",
       "      <td>11</td>\n",
       "      <td>6</td>\n",
       "      <td>6</td>\n",
       "    </tr>\n",
       "    <tr>\n",
       "      <th>149115</th>\n",
       "      <td>149043</td>\n",
       "      <td>30-06-2023</td>\n",
       "      <td>11:18:31</td>\n",
       "      <td>8</td>\n",
       "      <td>Hell's Kitchen</td>\n",
       "      <td>8</td>\n",
       "      <td>8</td>\n",
       "      <td>45.00</td>\n",
       "      <td>Coffee beans</td>\n",
       "      <td>Premium Beans</td>\n",
       "      <td>Civet Cat</td>\n",
       "      <td>Not Defind</td>\n",
       "      <td>360.0</td>\n",
       "      <td>June</td>\n",
       "      <td>Friday</td>\n",
       "      <td>11</td>\n",
       "      <td>5</td>\n",
       "      <td>6</td>\n",
       "    </tr>\n",
       "  </tbody>\n",
       "</table>\n",
       "<p>149116 rows × 18 columns</p>\n",
       "</div>"
      ],
      "text/plain": [
       "        transaction_id transaction_date transaction_time  store_id  \\\n",
       "0               114301       01-06-2023         11:33:29         3   \n",
       "1               115405       02-06-2023         11:18:24         3   \n",
       "2               115478       02-06-2023         12:02:45         3   \n",
       "3               116288       02-06-2023         19:39:47         3   \n",
       "4               116714       03-06-2023         12:24:57         3   \n",
       "...                ...              ...              ...       ...   \n",
       "149111          129465       14-06-2023         08:34:10         5   \n",
       "149112          133523       17-06-2023         09:55:47         8   \n",
       "149113          133674       17-06-2023         10:41:11         8   \n",
       "149114          133744       17-06-2023         11:18:31         8   \n",
       "149115          149043       30-06-2023         11:18:31         8   \n",
       "\n",
       "         store_location  product_id  transaction_qty  unit_price  \\\n",
       "0               Astoria          45                1        3.00   \n",
       "1               Astoria          45                1        3.00   \n",
       "2               Astoria          45                1        3.00   \n",
       "3               Astoria          45                1        3.00   \n",
       "4               Astoria          45                1        3.00   \n",
       "...                 ...         ...              ...         ...   \n",
       "149111  Lower Manhattan          41                4        4.25   \n",
       "149112   Hell's Kitchen           8                8       45.00   \n",
       "149113   Hell's Kitchen           8                8       45.00   \n",
       "149114   Hell's Kitchen           8                8       45.00   \n",
       "149115   Hell's Kitchen           8                8       45.00   \n",
       "\n",
       "       product_category       product_type product_detail        size  \\\n",
       "0                   Tea  Brewed herbal tea     Peppermint       Large   \n",
       "1                   Tea  Brewed herbal tea     Peppermint       Large   \n",
       "2                   Tea  Brewed herbal tea     Peppermint       Large   \n",
       "3                   Tea  Brewed herbal tea     Peppermint       Large   \n",
       "4                   Tea  Brewed herbal tea     Peppermint       Large   \n",
       "...                 ...                ...            ...         ...   \n",
       "149111           Coffee   Barista Espresso     Cappuccino       Large   \n",
       "149112     Coffee beans      Premium Beans      Civet Cat  Not Defind   \n",
       "149113     Coffee beans      Premium Beans      Civet Cat  Not Defind   \n",
       "149114     Coffee beans      Premium Beans      Civet Cat  Not Defind   \n",
       "149115     Coffee beans      Premium Beans      Civet Cat  Not Defind   \n",
       "\n",
       "        Total bill Month Name   Day Name  Hour  Day of Week  Month  \n",
       "0              3.0       June   Thursday    11            4      6  \n",
       "1              3.0       June     Friday    11            5      6  \n",
       "2              3.0       June     Friday    12            5      6  \n",
       "3              3.0       June     Friday    19            5      6  \n",
       "4              3.0       June   Saturday    12            6      6  \n",
       "...            ...        ...        ...   ...          ...    ...  \n",
       "149111        17.0       June  Wednesday     8            3      6  \n",
       "149112       360.0       June   Saturday     9            6      6  \n",
       "149113       360.0       June   Saturday    10            6      6  \n",
       "149114       360.0       June   Saturday    11            6      6  \n",
       "149115       360.0       June     Friday    11            5      6  \n",
       "\n",
       "[149116 rows x 18 columns]"
      ]
     },
     "execution_count": 13,
     "metadata": {},
     "output_type": "execute_result"
    }
   ],
   "source": [
    "df"
   ]
  },
  {
   "cell_type": "code",
   "execution_count": 14,
   "metadata": {},
   "outputs": [
    {
     "name": "stdout",
     "output_type": "stream",
     "text": [
      "<class 'pandas.core.frame.DataFrame'>\n",
      "RangeIndex: 149116 entries, 0 to 149115\n",
      "Data columns (total 18 columns):\n",
      " #   Column            Non-Null Count   Dtype  \n",
      "---  ------            --------------   -----  \n",
      " 0   transaction_id    149116 non-null  int64  \n",
      " 1   transaction_date  149116 non-null  object \n",
      " 2   transaction_time  149116 non-null  object \n",
      " 3   store_id          149116 non-null  int64  \n",
      " 4   store_location    149116 non-null  object \n",
      " 5   product_id        149116 non-null  int64  \n",
      " 6   transaction_qty   149116 non-null  int64  \n",
      " 7   unit_price        149116 non-null  float64\n",
      " 8   product_category  149116 non-null  object \n",
      " 9   product_type      149116 non-null  object \n",
      " 10  product_detail    149116 non-null  object \n",
      " 11  size              149116 non-null  object \n",
      " 12  Total bill        149116 non-null  float64\n",
      " 13  Month Name        149116 non-null  object \n",
      " 14  Day Name          149116 non-null  object \n",
      " 15  Hour              149116 non-null  int64  \n",
      " 16  Day of Week       149116 non-null  int64  \n",
      " 17  Month             149116 non-null  int64  \n",
      "dtypes: float64(2), int64(7), object(9)\n",
      "memory usage: 20.5+ MB\n"
     ]
    }
   ],
   "source": [
    "df.info()"
   ]
  },
  {
   "cell_type": "markdown",
   "metadata": {},
   "source": [
    "# Column names and descriptions"
   ]
  },
  {
   "cell_type": "markdown",
   "metadata": {},
   "source": [
    "transaction_id   : shows the details of the customers.\n",
    "transaction_date : shows customers  transaction date.\n",
    "transaction_time : shows customers transaction time.\n",
    "store_id         : shows the details no. of stores.\n",
    "store_location   : shows location of each stores.\n",
    "product_id       : shows details of each stores. \n",
    "transaction_qty  : shows transaction quantity.\n",
    "unit_price       : shows each unit price. \n",
    "product_category : it shows product category.\n",
    "product_type     : it shows product type.\n",
    "product_detail   :shows product detail.\n",
    "size             :shows its size Small , Large , Regular.\n",
    "Total bill       :it shows details of total bill.\n",
    "Month Name       :it shows month names.\n",
    "Day Name         :it shows days names.\n",
    "Hour             :it shows time in Hour.\n",
    "Day of Week      :it shows week days.\n",
    "Month            :it shows month in count.\n"
   ]
  },
  {
   "cell_type": "markdown",
   "metadata": {},
   "source": []
  },
  {
   "cell_type": "markdown",
   "metadata": {},
   "source": []
  },
  {
   "cell_type": "markdown",
   "metadata": {},
   "source": []
  },
  {
   "cell_type": "code",
   "execution_count": 16,
   "metadata": {},
   "outputs": [
    {
     "data": {
      "text/plain": [
       "transaction_id      0\n",
       "transaction_date    0\n",
       "transaction_time    0\n",
       "store_id            0\n",
       "store_location      0\n",
       "product_id          0\n",
       "transaction_qty     0\n",
       "unit_price          0\n",
       "product_category    0\n",
       "product_type        0\n",
       "product_detail      0\n",
       "size                0\n",
       "Total bill          0\n",
       "Month Name          0\n",
       "Day Name            0\n",
       "Hour                0\n",
       "Day of Week         0\n",
       "Month               0\n",
       "dtype: int64"
      ]
     },
     "execution_count": 16,
     "metadata": {},
     "output_type": "execute_result"
    }
   ],
   "source": [
    "df.isnull().sum()"
   ]
  },
  {
   "cell_type": "markdown",
   "metadata": {},
   "source": [
    "# Seperate the columns into x and y"
   ]
  },
  {
   "cell_type": "code",
   "execution_count": 18,
   "metadata": {},
   "outputs": [
    {
     "data": {
      "text/plain": [
       "(149116, 17)"
      ]
     },
     "execution_count": 18,
     "metadata": {},
     "output_type": "execute_result"
    }
   ],
   "source": [
    "x = df.iloc[:,:-1]\n",
    "x.shape"
   ]
  },
  {
   "cell_type": "code",
   "execution_count": 19,
   "metadata": {},
   "outputs": [
    {
     "data": {
      "text/plain": [
       "(149116,)"
      ]
     },
     "execution_count": 19,
     "metadata": {},
     "output_type": "execute_result"
    }
   ],
   "source": [
    "y = df.iloc[:,-1]\n",
    "y.shape"
   ]
  },
  {
   "cell_type": "markdown",
   "metadata": {},
   "source": [
    "# Encoding"
   ]
  },
  {
   "cell_type": "code",
   "execution_count": 21,
   "metadata": {},
   "outputs": [
    {
     "data": {
      "text/plain": [
       "Index(['transaction_date', 'transaction_time', 'store_location',\n",
       "       'product_category', 'product_type', 'product_detail', 'size',\n",
       "       'Month Name', 'Day Name'],\n",
       "      dtype='object')"
      ]
     },
     "execution_count": 21,
     "metadata": {},
     "output_type": "execute_result"
    }
   ],
   "source": [
    "cat_col = x.select_dtypes(object).columns\n",
    "cat_col"
   ]
  },
  {
   "cell_type": "code",
   "execution_count": 22,
   "metadata": {},
   "outputs": [],
   "source": [
    "from sklearn.preprocessing import OrdinalEncoder\n",
    "oe = OrdinalEncoder()\n",
    "x[cat_col] = oe.fit_transform(x[cat_col])"
   ]
  },
  {
   "cell_type": "code",
   "execution_count": 23,
   "metadata": {},
   "outputs": [
    {
     "data": {
      "text/html": [
       "<div>\n",
       "<style scoped>\n",
       "    .dataframe tbody tr th:only-of-type {\n",
       "        vertical-align: middle;\n",
       "    }\n",
       "\n",
       "    .dataframe tbody tr th {\n",
       "        vertical-align: top;\n",
       "    }\n",
       "\n",
       "    .dataframe thead th {\n",
       "        text-align: right;\n",
       "    }\n",
       "</style>\n",
       "<table border=\"1\" class=\"dataframe\">\n",
       "  <thead>\n",
       "    <tr style=\"text-align: right;\">\n",
       "      <th></th>\n",
       "      <th>transaction_id</th>\n",
       "      <th>transaction_date</th>\n",
       "      <th>transaction_time</th>\n",
       "      <th>store_id</th>\n",
       "      <th>store_location</th>\n",
       "      <th>product_id</th>\n",
       "      <th>transaction_qty</th>\n",
       "      <th>unit_price</th>\n",
       "      <th>product_category</th>\n",
       "      <th>product_type</th>\n",
       "      <th>product_detail</th>\n",
       "      <th>size</th>\n",
       "      <th>Total bill</th>\n",
       "      <th>Month Name</th>\n",
       "      <th>Day Name</th>\n",
       "      <th>Hour</th>\n",
       "      <th>Day of Week</th>\n",
       "    </tr>\n",
       "  </thead>\n",
       "  <tbody>\n",
       "    <tr>\n",
       "      <th>0</th>\n",
       "      <td>114301</td>\n",
       "      <td>5.0</td>\n",
       "      <td>11609.0</td>\n",
       "      <td>3</td>\n",
       "      <td>0.0</td>\n",
       "      <td>45</td>\n",
       "      <td>1</td>\n",
       "      <td>3.00</td>\n",
       "      <td>8.0</td>\n",
       "      <td>6.0</td>\n",
       "      <td>37.0</td>\n",
       "      <td>0.0</td>\n",
       "      <td>3.0</td>\n",
       "      <td>3.0</td>\n",
       "      <td>4.0</td>\n",
       "      <td>11</td>\n",
       "      <td>4</td>\n",
       "    </tr>\n",
       "    <tr>\n",
       "      <th>1</th>\n",
       "      <td>115405</td>\n",
       "      <td>11.0</td>\n",
       "      <td>11126.0</td>\n",
       "      <td>3</td>\n",
       "      <td>0.0</td>\n",
       "      <td>45</td>\n",
       "      <td>1</td>\n",
       "      <td>3.00</td>\n",
       "      <td>8.0</td>\n",
       "      <td>6.0</td>\n",
       "      <td>37.0</td>\n",
       "      <td>0.0</td>\n",
       "      <td>3.0</td>\n",
       "      <td>3.0</td>\n",
       "      <td>0.0</td>\n",
       "      <td>11</td>\n",
       "      <td>5</td>\n",
       "    </tr>\n",
       "    <tr>\n",
       "      <th>2</th>\n",
       "      <td>115478</td>\n",
       "      <td>11.0</td>\n",
       "      <td>12451.0</td>\n",
       "      <td>3</td>\n",
       "      <td>0.0</td>\n",
       "      <td>45</td>\n",
       "      <td>1</td>\n",
       "      <td>3.00</td>\n",
       "      <td>8.0</td>\n",
       "      <td>6.0</td>\n",
       "      <td>37.0</td>\n",
       "      <td>0.0</td>\n",
       "      <td>3.0</td>\n",
       "      <td>3.0</td>\n",
       "      <td>0.0</td>\n",
       "      <td>12</td>\n",
       "      <td>5</td>\n",
       "    </tr>\n",
       "    <tr>\n",
       "      <th>3</th>\n",
       "      <td>116288</td>\n",
       "      <td>11.0</td>\n",
       "      <td>25184.0</td>\n",
       "      <td>3</td>\n",
       "      <td>0.0</td>\n",
       "      <td>45</td>\n",
       "      <td>1</td>\n",
       "      <td>3.00</td>\n",
       "      <td>8.0</td>\n",
       "      <td>6.0</td>\n",
       "      <td>37.0</td>\n",
       "      <td>0.0</td>\n",
       "      <td>3.0</td>\n",
       "      <td>3.0</td>\n",
       "      <td>0.0</td>\n",
       "      <td>19</td>\n",
       "      <td>5</td>\n",
       "    </tr>\n",
       "    <tr>\n",
       "      <th>4</th>\n",
       "      <td>116714</td>\n",
       "      <td>17.0</td>\n",
       "      <td>13090.0</td>\n",
       "      <td>3</td>\n",
       "      <td>0.0</td>\n",
       "      <td>45</td>\n",
       "      <td>1</td>\n",
       "      <td>3.00</td>\n",
       "      <td>8.0</td>\n",
       "      <td>6.0</td>\n",
       "      <td>37.0</td>\n",
       "      <td>0.0</td>\n",
       "      <td>3.0</td>\n",
       "      <td>3.0</td>\n",
       "      <td>2.0</td>\n",
       "      <td>12</td>\n",
       "      <td>6</td>\n",
       "    </tr>\n",
       "    <tr>\n",
       "      <th>...</th>\n",
       "      <td>...</td>\n",
       "      <td>...</td>\n",
       "      <td>...</td>\n",
       "      <td>...</td>\n",
       "      <td>...</td>\n",
       "      <td>...</td>\n",
       "      <td>...</td>\n",
       "      <td>...</td>\n",
       "      <td>...</td>\n",
       "      <td>...</td>\n",
       "      <td>...</td>\n",
       "      <td>...</td>\n",
       "      <td>...</td>\n",
       "      <td>...</td>\n",
       "      <td>...</td>\n",
       "      <td>...</td>\n",
       "      <td>...</td>\n",
       "    </tr>\n",
       "    <tr>\n",
       "      <th>149111</th>\n",
       "      <td>129465</td>\n",
       "      <td>83.0</td>\n",
       "      <td>4499.0</td>\n",
       "      <td>5</td>\n",
       "      <td>2.0</td>\n",
       "      <td>41</td>\n",
       "      <td>4</td>\n",
       "      <td>4.25</td>\n",
       "      <td>2.0</td>\n",
       "      <td>0.0</td>\n",
       "      <td>3.0</td>\n",
       "      <td>0.0</td>\n",
       "      <td>17.0</td>\n",
       "      <td>3.0</td>\n",
       "      <td>6.0</td>\n",
       "      <td>8</td>\n",
       "      <td>3</td>\n",
       "    </tr>\n",
       "    <tr>\n",
       "      <th>149112</th>\n",
       "      <td>133523</td>\n",
       "      <td>101.0</td>\n",
       "      <td>7871.0</td>\n",
       "      <td>8</td>\n",
       "      <td>1.0</td>\n",
       "      <td>8</td>\n",
       "      <td>8</td>\n",
       "      <td>45.00</td>\n",
       "      <td>3.0</td>\n",
       "      <td>24.0</td>\n",
       "      <td>9.0</td>\n",
       "      <td>1.0</td>\n",
       "      <td>360.0</td>\n",
       "      <td>3.0</td>\n",
       "      <td>2.0</td>\n",
       "      <td>9</td>\n",
       "      <td>6</td>\n",
       "    </tr>\n",
       "    <tr>\n",
       "      <th>149113</th>\n",
       "      <td>133674</td>\n",
       "      <td>101.0</td>\n",
       "      <td>9786.0</td>\n",
       "      <td>8</td>\n",
       "      <td>1.0</td>\n",
       "      <td>8</td>\n",
       "      <td>8</td>\n",
       "      <td>45.00</td>\n",
       "      <td>3.0</td>\n",
       "      <td>24.0</td>\n",
       "      <td>9.0</td>\n",
       "      <td>1.0</td>\n",
       "      <td>360.0</td>\n",
       "      <td>3.0</td>\n",
       "      <td>2.0</td>\n",
       "      <td>10</td>\n",
       "      <td>6</td>\n",
       "    </tr>\n",
       "    <tr>\n",
       "      <th>149114</th>\n",
       "      <td>133744</td>\n",
       "      <td>101.0</td>\n",
       "      <td>11133.0</td>\n",
       "      <td>8</td>\n",
       "      <td>1.0</td>\n",
       "      <td>8</td>\n",
       "      <td>8</td>\n",
       "      <td>45.00</td>\n",
       "      <td>3.0</td>\n",
       "      <td>24.0</td>\n",
       "      <td>9.0</td>\n",
       "      <td>1.0</td>\n",
       "      <td>360.0</td>\n",
       "      <td>3.0</td>\n",
       "      <td>2.0</td>\n",
       "      <td>11</td>\n",
       "      <td>6</td>\n",
       "    </tr>\n",
       "    <tr>\n",
       "      <th>149115</th>\n",
       "      <td>149043</td>\n",
       "      <td>177.0</td>\n",
       "      <td>11133.0</td>\n",
       "      <td>8</td>\n",
       "      <td>1.0</td>\n",
       "      <td>8</td>\n",
       "      <td>8</td>\n",
       "      <td>45.00</td>\n",
       "      <td>3.0</td>\n",
       "      <td>24.0</td>\n",
       "      <td>9.0</td>\n",
       "      <td>1.0</td>\n",
       "      <td>360.0</td>\n",
       "      <td>3.0</td>\n",
       "      <td>0.0</td>\n",
       "      <td>11</td>\n",
       "      <td>5</td>\n",
       "    </tr>\n",
       "  </tbody>\n",
       "</table>\n",
       "<p>149116 rows × 17 columns</p>\n",
       "</div>"
      ],
      "text/plain": [
       "        transaction_id  transaction_date  transaction_time  store_id  \\\n",
       "0               114301               5.0           11609.0         3   \n",
       "1               115405              11.0           11126.0         3   \n",
       "2               115478              11.0           12451.0         3   \n",
       "3               116288              11.0           25184.0         3   \n",
       "4               116714              17.0           13090.0         3   \n",
       "...                ...               ...               ...       ...   \n",
       "149111          129465              83.0            4499.0         5   \n",
       "149112          133523             101.0            7871.0         8   \n",
       "149113          133674             101.0            9786.0         8   \n",
       "149114          133744             101.0           11133.0         8   \n",
       "149115          149043             177.0           11133.0         8   \n",
       "\n",
       "        store_location  product_id  transaction_qty  unit_price  \\\n",
       "0                  0.0          45                1        3.00   \n",
       "1                  0.0          45                1        3.00   \n",
       "2                  0.0          45                1        3.00   \n",
       "3                  0.0          45                1        3.00   \n",
       "4                  0.0          45                1        3.00   \n",
       "...                ...         ...              ...         ...   \n",
       "149111             2.0          41                4        4.25   \n",
       "149112             1.0           8                8       45.00   \n",
       "149113             1.0           8                8       45.00   \n",
       "149114             1.0           8                8       45.00   \n",
       "149115             1.0           8                8       45.00   \n",
       "\n",
       "        product_category  product_type  product_detail  size  Total bill  \\\n",
       "0                    8.0           6.0            37.0   0.0         3.0   \n",
       "1                    8.0           6.0            37.0   0.0         3.0   \n",
       "2                    8.0           6.0            37.0   0.0         3.0   \n",
       "3                    8.0           6.0            37.0   0.0         3.0   \n",
       "4                    8.0           6.0            37.0   0.0         3.0   \n",
       "...                  ...           ...             ...   ...         ...   \n",
       "149111               2.0           0.0             3.0   0.0        17.0   \n",
       "149112               3.0          24.0             9.0   1.0       360.0   \n",
       "149113               3.0          24.0             9.0   1.0       360.0   \n",
       "149114               3.0          24.0             9.0   1.0       360.0   \n",
       "149115               3.0          24.0             9.0   1.0       360.0   \n",
       "\n",
       "        Month Name  Day Name  Hour  Day of Week  \n",
       "0              3.0       4.0    11            4  \n",
       "1              3.0       0.0    11            5  \n",
       "2              3.0       0.0    12            5  \n",
       "3              3.0       0.0    19            5  \n",
       "4              3.0       2.0    12            6  \n",
       "...            ...       ...   ...          ...  \n",
       "149111         3.0       6.0     8            3  \n",
       "149112         3.0       2.0     9            6  \n",
       "149113         3.0       2.0    10            6  \n",
       "149114         3.0       2.0    11            6  \n",
       "149115         3.0       0.0    11            5  \n",
       "\n",
       "[149116 rows x 17 columns]"
      ]
     },
     "execution_count": 23,
     "metadata": {},
     "output_type": "execute_result"
    }
   ],
   "source": [
    "x"
   ]
  },
  {
   "cell_type": "markdown",
   "metadata": {},
   "source": [
    "# Split the data into training and testing"
   ]
  },
  {
   "cell_type": "code",
   "execution_count": 25,
   "metadata": {},
   "outputs": [],
   "source": [
    "from sklearn.model_selection import train_test_split\n",
    "xtrain,xtest,ytrain,ytest = train_test_split(x,y,test_size = 0.2,random_state = 1)"
   ]
  },
  {
   "cell_type": "markdown",
   "metadata": {},
   "source": [
    "# 1 - Predicting the data using Logistics Regression"
   ]
  },
  {
   "cell_type": "code",
   "execution_count": 27,
   "metadata": {},
   "outputs": [],
   "source": [
    "from sklearn.linear_model import LogisticRegression\n",
    "logreg = LogisticRegression()\n",
    "logreg.fit(xtrain,ytrain)\n",
    "ypred = logreg.predict(xtest)"
   ]
  },
  {
   "cell_type": "code",
   "execution_count": 28,
   "metadata": {},
   "outputs": [
    {
     "name": "stdout",
     "output_type": "stream",
     "text": [
      "Accuracy score :  0.541711373390558\n",
      "              precision    recall  f1-score   support\n",
      "\n",
      "           1       0.77      0.79      0.78      3396\n",
      "           2       0.50      0.19      0.27      3234\n",
      "           3       0.40      0.38      0.39      4265\n",
      "           4       0.50      0.50      0.50      5053\n",
      "           5       0.45      0.47      0.46      6745\n",
      "           6       0.62      0.78      0.69      7131\n",
      "\n",
      "    accuracy                           0.54     29824\n",
      "   macro avg       0.54      0.52      0.51     29824\n",
      "weighted avg       0.53      0.54      0.53     29824\n",
      "\n"
     ]
    }
   ],
   "source": [
    "# Evaluate the model\n",
    "from sklearn.metrics import accuracy_score,classification_report\n",
    "ac = accuracy_score(ytest,ypred)\n",
    "cr = classification_report(ytest,ypred)\n",
    "print(\"Accuracy score : \",ac)\n",
    "print(cr)"
   ]
  },
  {
   "cell_type": "markdown",
   "metadata": {},
   "source": [
    "We have achieved an Average Accuracy of 54% which is not that good. Lets see if we can increase this accuracy by hyper tuning"
   ]
  },
  {
   "cell_type": "markdown",
   "metadata": {},
   "source": [
    "# HPT"
   ]
  },
  {
   "cell_type": "code",
   "execution_count": 31,
   "metadata": {},
   "outputs": [],
   "source": [
    "logreg = LogisticRegression(solver = \"liblinear\")\n",
    "logreg.fit(xtrain,ytrain)\n",
    "ypred = logreg.predict(xtest)"
   ]
  },
  {
   "cell_type": "code",
   "execution_count": 32,
   "metadata": {},
   "outputs": [
    {
     "name": "stdout",
     "output_type": "stream",
     "text": [
      "Accuracy score :  0.8077722639484979\n",
      "              precision    recall  f1-score   support\n",
      "\n",
      "           1       1.00      1.00      1.00      3396\n",
      "           2       1.00      0.25      0.39      3234\n",
      "           3       0.29      0.23      0.25      4265\n",
      "           4       1.00      1.00      1.00      5053\n",
      "           5       0.67      1.00      0.80      6745\n",
      "           6       1.00      1.00      1.00      7131\n",
      "\n",
      "    accuracy                           0.81     29824\n",
      "   macro avg       0.83      0.75      0.74     29824\n",
      "weighted avg       0.82      0.81      0.78     29824\n",
      "\n"
     ]
    }
   ],
   "source": [
    "ac = accuracy_score(ytest,ypred)\n",
    "cr = classification_report(ytest,ypred)\n",
    "print(\"Accuracy score : \",ac)\n",
    "print(cr)"
   ]
  },
  {
   "cell_type": "markdown",
   "metadata": {},
   "source": [
    "#By using liblinear we get Accuracy of 81%"
   ]
  },
  {
   "cell_type": "code",
   "execution_count": 34,
   "metadata": {},
   "outputs": [],
   "source": [
    "logreg = LogisticRegression(solver = 'newton-cg')\n",
    "logreg.fit(xtrain,ytrain)\n",
    "ypred = logreg.predict(xtest)"
   ]
  },
  {
   "cell_type": "code",
   "execution_count": 35,
   "metadata": {},
   "outputs": [
    {
     "name": "stdout",
     "output_type": "stream",
     "text": [
      "Accuracy score :  0.9999329399141631\n",
      "              precision    recall  f1-score   support\n",
      "\n",
      "           1       1.00      1.00      1.00      3396\n",
      "           2       1.00      1.00      1.00      3234\n",
      "           3       1.00      1.00      1.00      4265\n",
      "           4       1.00      1.00      1.00      5053\n",
      "           5       1.00      1.00      1.00      6745\n",
      "           6       1.00      1.00      1.00      7131\n",
      "\n",
      "    accuracy                           1.00     29824\n",
      "   macro avg       1.00      1.00      1.00     29824\n",
      "weighted avg       1.00      1.00      1.00     29824\n",
      "\n"
     ]
    }
   ],
   "source": [
    "ac = accuracy_score(ytest,ypred)\n",
    "cr = classification_report(ytest,ypred)\n",
    "print(\"Accuracy score : \",ac)\n",
    "print(cr)"
   ]
  },
  {
   "cell_type": "markdown",
   "metadata": {},
   "source": [
    "#By using newton-cg we get Accuracy of 100% which is good."
   ]
  },
  {
   "cell_type": "markdown",
   "metadata": {},
   "source": [
    "HPT Conclusion: liblinear  and newton-cg --> newton-cg we get Accuracy of 100% which is good than liblinear"
   ]
  },
  {
   "cell_type": "markdown",
   "metadata": {},
   "source": [
    "# 2 - Predicting the data using KNN Classifier"
   ]
  },
  {
   "cell_type": "code",
   "execution_count": 39,
   "metadata": {},
   "outputs": [],
   "source": [
    "from sklearn.neighbors import KNeighborsClassifier\n",
    "knn = KNeighborsClassifier(n_neighbors = 5) # by default n_neighbors = 5\n",
    "knn.fit(xtrain,ytrain)\n",
    "ypred = knn.predict(xtest)"
   ]
  },
  {
   "cell_type": "code",
   "execution_count": 40,
   "metadata": {},
   "outputs": [
    {
     "name": "stdout",
     "output_type": "stream",
     "text": [
      "0.9999664699570815\n"
     ]
    }
   ],
   "source": [
    "#Evaluate the model\n",
    "\n",
    "from sklearn.metrics import accuracy_score\n",
    "ac = accuracy_score(ytest,ypred)\n",
    "print(ac)"
   ]
  },
  {
   "cell_type": "markdown",
   "metadata": {},
   "source": [
    "#By using KNN CLASSIFIER we get 99% accuracy."
   ]
  },
  {
   "cell_type": "markdown",
   "metadata": {},
   "source": [
    "# 3 - Predicting the data using Random Forest"
   ]
  },
  {
   "cell_type": "code",
   "execution_count": 43,
   "metadata": {},
   "outputs": [
    {
     "name": "stdout",
     "output_type": "stream",
     "text": [
      "              precision    recall  f1-score   support\n",
      "\n",
      "           1       1.00      1.00      1.00      3396\n",
      "           2       1.00      1.00      1.00      3234\n",
      "           3       1.00      1.00      1.00      4265\n",
      "           4       1.00      1.00      1.00      5053\n",
      "           5       1.00      1.00      1.00      6745\n",
      "           6       1.00      1.00      1.00      7131\n",
      "\n",
      "    accuracy                           1.00     29824\n",
      "   macro avg       1.00      1.00      1.00     29824\n",
      "weighted avg       1.00      1.00      1.00     29824\n",
      "\n"
     ]
    }
   ],
   "source": [
    "from sklearn.ensemble import RandomForestClassifier\n",
    "rc = RandomForestClassifier()\n",
    "rc.fit(xtrain,ytrain)\n",
    "ypred = rc.predict(xtest)\n",
    "print(classification_report(ytest,ypred))"
   ]
  },
  {
   "cell_type": "markdown",
   "metadata": {},
   "source": [
    "#By using Random Forest we get 100% of accuracy which is good."
   ]
  },
  {
   "cell_type": "markdown",
   "metadata": {},
   "source": [
    "# 4. Predicting the data using Boosting"
   ]
  },
  {
   "cell_type": "markdown",
   "metadata": {},
   "source": [
    "i) - Adaboost Classifier"
   ]
  },
  {
   "cell_type": "code",
   "execution_count": 47,
   "metadata": {},
   "outputs": [
    {
     "name": "stdout",
     "output_type": "stream",
     "text": [
      "              precision    recall  f1-score   support\n",
      "\n",
      "           1       1.00      1.00      1.00      3396\n",
      "           2       0.00      0.00      0.00      3234\n",
      "           3       0.57      1.00      0.73      4265\n",
      "           4       1.00      1.00      1.00      5053\n",
      "           5       1.00      1.00      1.00      6745\n",
      "           6       1.00      1.00      1.00      7131\n",
      "\n",
      "    accuracy                           0.89     29824\n",
      "   macro avg       0.76      0.83      0.79     29824\n",
      "weighted avg       0.83      0.89      0.85     29824\n",
      "\n"
     ]
    }
   ],
   "source": [
    "from sklearn.ensemble import AdaBoostClassifier\n",
    "ada = AdaBoostClassifier()\n",
    "ada.fit(xtrain,ytrain)\n",
    "ypred = ada.predict(xtest)\n",
    "print(classification_report(ytest,ypred))"
   ]
  },
  {
   "cell_type": "markdown",
   "metadata": {},
   "source": [
    "#By using AdaBoost Classifier we get 89% of accuracy"
   ]
  },
  {
   "cell_type": "markdown",
   "metadata": {},
   "source": [
    "ii) - Gradient Boosting"
   ]
  },
  {
   "cell_type": "code",
   "execution_count": 50,
   "metadata": {},
   "outputs": [
    {
     "name": "stdout",
     "output_type": "stream",
     "text": [
      "              precision    recall  f1-score   support\n",
      "\n",
      "           1       1.00      1.00      1.00      3396\n",
      "           2       1.00      1.00      1.00      3234\n",
      "           3       1.00      1.00      1.00      4265\n",
      "           4       1.00      1.00      1.00      5053\n",
      "           5       1.00      1.00      1.00      6745\n",
      "           6       1.00      1.00      1.00      7131\n",
      "\n",
      "    accuracy                           1.00     29824\n",
      "   macro avg       1.00      1.00      1.00     29824\n",
      "weighted avg       1.00      1.00      1.00     29824\n",
      "\n"
     ]
    }
   ],
   "source": [
    "from sklearn.ensemble import GradientBoostingClassifier\n",
    "gbc = GradientBoostingClassifier()\n",
    "gbc.fit(xtrain,ytrain)\n",
    "ypred = gbc.predict(xtest)\n",
    "print(classification_report(ytest,ypred))"
   ]
  },
  {
   "cell_type": "markdown",
   "metadata": {},
   "source": [
    "#By using Gradient Boosting algorithm we get 100% of accuracy which is good."
   ]
  },
  {
   "cell_type": "code",
   "execution_count": 51,
   "metadata": {},
   "outputs": [],
   "source": []
  },
  {
   "cell_type": "markdown",
   "metadata": {},
   "source": [
    "# Conclusion: Based on the above accuracy scores, we should go ahead with KNN Classifier , Random forest or Gradient boosting.\n"
   ]
  }
 ],
 "metadata": {
  "kernelspec": {
   "display_name": "Python 3",
   "language": "python",
   "name": "python3"
  },
  "language_info": {
   "codemirror_mode": {
    "name": "ipython",
    "version": 3
   },
   "file_extension": ".py",
   "mimetype": "text/x-python",
   "name": "python",
   "nbconvert_exporter": "python",
   "pygments_lexer": "ipython3",
   "version": "3.12.2"
  }
 },
 "nbformat": 4,
 "nbformat_minor": 2
}
